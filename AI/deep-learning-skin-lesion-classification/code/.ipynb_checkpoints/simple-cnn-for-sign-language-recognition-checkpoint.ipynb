{
 "cells": [
  {
   "cell_type": "markdown",
   "metadata": {},
   "source": [
    "# 1. Introduction"
   ]
  },
  {
   "cell_type": "markdown",
   "metadata": {},
   "source": [
    "The purpose of this notebook is to create a simple Convolutionnal Neural Network using Tensorflow in order to recognize hand gestures for sign language. We shall then try to use it with the camera using OpenCV."
   ]
  },
  {
   "cell_type": "markdown",
   "metadata": {},
   "source": [
    "## 1.1. Imports"
   ]
  },
  {
   "cell_type": "code",
   "execution_count": 24,
   "metadata": {
    "_cell_guid": "b1076dfc-b9ad-4769-8c92-a6c4dae69d19",
    "_uuid": "8f2839f25d086af736a60e9eeb907d3b93b6e0e5",
    "execution": {
     "iopub.execute_input": "2024-03-02T07:14:22.030242Z",
     "iopub.status.busy": "2024-03-02T07:14:22.029600Z",
     "iopub.status.idle": "2024-03-02T07:14:29.125286Z",
     "shell.execute_reply": "2024-03-02T07:14:29.123824Z",
     "shell.execute_reply.started": "2024-03-02T07:14:22.030198Z"
    }
   },
   "outputs": [
    {
     "name": "stdout",
     "output_type": "stream",
     "text": [
      "C:/Users/Ananymis/Desktop/mostafa/input\\american_sign_language.PNG\n",
      "C:/Users/Ananymis/Desktop/mostafa/input\\amer_sign2.png\n",
      "C:/Users/Ananymis/Desktop/mostafa/input\\amer_sign3.png\n",
      "C:/Users/Ananymis/Desktop/mostafa/input\\sign_mnist_test.csv\n",
      "C:/Users/Ananymis/Desktop/mostafa/input\\sign_mnist_train.csv\n",
      "C:/Users/Ananymis/Desktop/mostafa/input\\sign_mnist_test\\sign_mnist_test.csv\n",
      "C:/Users/Ananymis/Desktop/mostafa/input\\sign_mnist_train\\sign_mnist_train.csv\n"
     ]
    }
   ],
   "source": [
    "# This Python 3 environment comes with many helpful analytics libraries installed\n",
    "# It is defined by the kaggle/python Docker image: https://github.com/kaggle/docker-python\n",
    "# For example, here's several helpful packages to load\n",
    "\n",
    "import numpy as np # linear algebra\n",
    "import pandas as pd # data processing, CSV file I/O (e.g. pd.read_csv)\n",
    "import tensorflow as tf\n",
    "from tensorflow.keras import Sequential\n",
    "from tensorflow.keras.layers import Dense,Conv2D, Flatten, Input\n",
    "import cv2\n",
    "import matplotlib.pyplot as plt\n",
    "import random as rd\n",
    "\n",
    "# Input data files are available in the read-only \"../input/\" directory\n",
    "# For example, running this (by clicking run or pressing Shift+Enter) will list all files under the input directory\n",
    "\n",
    "import os\n",
    "\n",
    "# Corrected path to include 'Desktop' instead of 'ktop'\n",
    "for dirname, _, filenames in os.walk('C:/Users/Ananymis/Desktop/mostafa/input'):\n",
    "    for filename in filenames:\n",
    "        print(os.path.join(dirname, filename))\n",
    "\n",
    "# You can write up to 20GB to the current directory (/kaggle/working/) that gets preserved as output when you create a version using \"Save & Run All\" \n",
    "# You can also write temporary files to /kaggle/temp/, but they won't be saved outside of the current session"
   ]
  },
  {
   "cell_type": "markdown",
   "metadata": {},
   "source": [
    "## 1.2. Dataset"
   ]
  },
  {
   "cell_type": "markdown",
   "metadata": {},
   "source": [
    "We import the train dataset and show a random image and its label. "
   ]
  },
  {
   "cell_type": "code",
   "execution_count": 28,
   "metadata": {
    "_cell_guid": "79c7e3d0-c299-4dcb-8224-4455121ee9b0",
    "_uuid": "d629ff2d2480ee46fbb7e2d37f6b5fab8052498a",
    "execution": {
     "iopub.execute_input": "2024-03-02T07:14:29.130042Z",
     "iopub.status.busy": "2024-03-02T07:14:29.129176Z",
     "iopub.status.idle": "2024-03-02T07:14:33.837281Z",
     "shell.execute_reply": "2024-03-02T07:14:33.835926Z",
     "shell.execute_reply.started": "2024-03-02T07:14:29.129960Z"
    }
   },
   "outputs": [
    {
     "name": "stdout",
     "output_type": "stream",
     "text": [
      "   label  pixel1  pixel2  pixel3  pixel4  pixel5  pixel6  pixel7  pixel8  \\\n",
      "0      6     149     149     150     150     150     151     151     150   \n",
      "1      5     126     128     131     132     133     134     135     135   \n",
      "2     10      85      88      92      96     105     123     135     143   \n",
      "3      0     203     205     207     206     207     209     210     209   \n",
      "4      3     188     191     193     195     199     201     202     203   \n",
      "\n",
      "   pixel9  ...  pixel775  pixel776  pixel777  pixel778  pixel779  pixel780  \\\n",
      "0     151  ...       138       148       127        89        82        96   \n",
      "1     136  ...        47       104       194       183       186       184   \n",
      "2     147  ...        68       166       242       227       230       227   \n",
      "3     210  ...       154       248       247       248       253       236   \n",
      "4     203  ...        26        40        64        48        29        46   \n",
      "\n",
      "   pixel781  pixel782  pixel783  pixel784  \n",
      "0       106       112       120       107  \n",
      "1       184       184       182       180  \n",
      "2       226       225       224       222  \n",
      "3       230       240       253       255  \n",
      "4        49        46        46        53  \n",
      "\n",
      "[5 rows x 785 columns]\n"
     ]
    }
   ],
   "source": [
    "import pandas as pd\n",
    "\n",
    "# Assuming the corrected path is accurate and the file exists\n",
    "df_train = pd.read_csv(\"C:/Users/Ananymis/Desktop/mostafa/input\\sign_mnist_test\\sign_mnist_test.csv\")\n",
    "\n",
    "# Display the first few rows of the dataframe to verify successful loading\n",
    "print(df_train.head())\n"
   ]
  },
  {
   "cell_type": "code",
   "execution_count": 29,
   "metadata": {
    "execution": {
     "iopub.execute_input": "2024-03-02T07:14:33.839961Z",
     "iopub.status.busy": "2024-03-02T07:14:33.839497Z",
     "iopub.status.idle": "2024-03-02T07:14:34.069745Z",
     "shell.execute_reply": "2024-03-02T07:14:34.068225Z",
     "shell.execute_reply.started": "2024-03-02T07:14:33.839910Z"
    }
   },
   "outputs": [
    {
     "name": "stderr",
     "output_type": "stream",
     "text": [
      "C:\\Users\\Ananymis\\AppData\\Local\\Temp\\ipykernel_4004\\3722236411.py:5: FutureWarning: Series.__getitem__ treating keys as positions is deprecated. In a future version, integer keys will always be treated as labels (consistent with DataFrame behavior). To access a value by position, use `ser.iloc[pos]`\n",
      "  plt.title(alphabet[df_train.loc[n][0]])\n"
     ]
    },
    {
     "data": {
      "image/png": "[encoded data removed]",
      "text/plain": [
       "<Figure size 640x480 with 1 Axes>"
      ]
     },
     "metadata": {},
     "output_type": "display_data"
    }
   ],
   "source": [
    "alphabet=['a','b','c','d','e','f','g','h','i','j','k','l','m','n','o','p','q','r','s','t','u','v','w','x','y','z']\n",
    "n = rd.randrange(df_train.shape[0])\n",
    "ar = np.array(df_train.loc[n][1:]).reshape((28,28))\n",
    "plt.imshow(ar, cmap='gray')\n",
    "plt.title(alphabet[df_train.loc[n][0]])\n",
    "plt.show()"
   ]
  },
  {
   "cell_type": "markdown",
   "metadata": {},
   "source": [
    "# 2. Data Preprocessing"
   ]
  },
  {
   "cell_type": "markdown",
   "metadata": {},
   "source": [
    "First we separate our labels from our data. We then have to normalize the data of all images, and create a simple one hot encoding of the labels."
   ]
  },
  {
   "cell_type": "code",
   "execution_count": 30,
   "metadata": {
    "execution": {
     "iopub.execute_input": "2024-03-02T07:14:34.072129Z",
     "iopub.status.busy": "2024-03-02T07:14:34.071647Z",
     "iopub.status.idle": "2024-03-02T07:14:34.389245Z",
     "shell.execute_reply": "2024-03-02T07:14:34.388199Z",
     "shell.execute_reply.started": "2024-03-02T07:14:34.072079Z"
    }
   },
   "outputs": [],
   "source": [
    "y = df_train[\"label\"]\n",
    "X = df_train.drop(['label'], axis=1)\n",
    "\n",
    "X = np.array(X)/255\n",
    "y = np.array(y)\n",
    "\n",
    "Y = np.zeros((len(alphabet),df_train.shape[0]))\n",
    "for i in range(len(y)):\n",
    "  Y[y[i],i] = 1\n",
    "X = X.reshape((-1, 28,28,1))\n",
    "Y = Y.reshape((26,-1))"
   ]
  },
  {
   "cell_type": "markdown",
   "metadata": {},
   "source": [
    "# 3. Convolutionnal Neural Network"
   ]
  },
  {
   "cell_type": "code",
   "execution_count": 31,
   "metadata": {
    "execution": {
     "iopub.execute_input": "2024-03-02T07:14:34.393083Z",
     "iopub.status.busy": "2024-03-02T07:14:34.392692Z",
     "iopub.status.idle": "2024-03-02T07:14:34.907840Z",
     "shell.execute_reply": "2024-03-02T07:14:34.906205Z",
     "shell.execute_reply.started": "2024-03-02T07:14:34.393046Z"
    }
   },
   "outputs": [
    {
     "name": "stdout",
     "output_type": "stream",
     "text": [
      "WARNING:tensorflow:From c:\\Users\\Ananymis\\AppData\\Local\\Programs\\Python\\Python311\\Lib\\site-packages\\keras\\src\\backend.py:873: The name tf.get_default_graph is deprecated. Please use tf.compat.v1.get_default_graph instead.\n",
      "\n",
      "WARNING:tensorflow:From c:\\Users\\Ananymis\\AppData\\Local\\Programs\\Python\\Python311\\Lib\\site-packages\\keras\\src\\layers\\pooling\\max_pooling2d.py:161: The name tf.nn.max_pool is deprecated. Please use tf.nn.max_pool2d instead.\n",
      "\n",
      "Model: \"sequential\"\n",
      "_________________________________________________________________\n",
      " Layer (type)                Output Shape              Param #   \n",
      "=================================================================\n",
      " conv2d (Conv2D)             (None, 28, 28, 32)        320       \n",
      "                                                                 \n",
      " conv2d_1 (Conv2D)           (None, 28, 28, 32)        9248      \n",
      "                                                                 \n",
      " max_pooling2d (MaxPooling2  (None, 14, 14, 32)        0         \n",
      " D)                                                              \n",
      "                                                                 \n",
      " dropout (Dropout)           (None, 14, 14, 32)        0         \n",
      "                                                                 \n",
      " conv2d_2 (Conv2D)           (None, 14, 14, 64)        18496     \n",
      "                                                                 \n",
      " conv2d_3 (Conv2D)           (None, 14, 14, 64)        36928     \n",
      "                                                                 \n",
      " max_pooling2d_1 (MaxPoolin  (None, 7, 7, 64)          0         \n",
      " g2D)                                                            \n",
      "                                                                 \n",
      " dropout_1 (Dropout)         (None, 7, 7, 64)          0         \n",
      "                                                                 \n",
      " flatten (Flatten)           (None, 3136)              0         \n",
      "                                                                 \n",
      " dense (Dense)               (None, 556)               1744172   \n",
      "                                                                 \n",
      " dense_1 (Dense)             (None, 128)               71296     \n",
      "                                                                 \n",
      " dropout_2 (Dropout)         (None, 128)               0         \n",
      "                                                                 \n",
      " dense_2 (Dense)             (None, 26)                3354      \n",
      "                                                                 \n",
      "=================================================================\n",
      "Total params: 1883814 (7.19 MB)\n",
      "Trainable params: 1883814 (7.19 MB)\n",
      "Non-trainable params: 0 (0.00 Byte)\n",
      "_________________________________________________________________\n",
      "WARNING:tensorflow:From c:\\Users\\Ananymis\\AppData\\Local\\Programs\\Python\\Python311\\Lib\\site-packages\\keras\\src\\optimizers\\__init__.py:309: The name tf.train.Optimizer is deprecated. Please use tf.compat.v1.train.Optimizer instead.\n",
      "\n"
     ]
    }
   ],
   "source": [
    "model = tf.keras.Sequential()\n",
    "model.add(tf.keras.layers.Convolution2D(32, (3, 3), activation='relu', input_shape=(28,28,1),padding='same'))\n",
    "model.add(tf.keras.layers.Convolution2D(32, (3, 3), activation='relu',padding='same'))\n",
    "model.add(tf.keras.layers.MaxPooling2D((2,2), strides=None,padding='same'))\n",
    "model.add(tf.keras.layers.Dropout(0.2))\n",
    "\n",
    "model.add(tf.keras.layers.Convolution2D(64, (3, 3), activation='relu',padding='same'))\n",
    "model.add(tf.keras.layers.Convolution2D(64, (3, 3), activation='relu',padding='same'))\n",
    "model.add(tf.keras.layers.MaxPooling2D((2,2), strides=None,padding='same'))\n",
    "model.add(tf.keras.layers.Dropout(0.2))\n",
    "\n",
    "model.add(tf.keras.layers.Flatten())\n",
    "model.add(tf.keras.layers.Dense(556, activation='relu'))\n",
    "model.add(tf.keras.layers.Dense(128, activation='relu'))\n",
    "model.add(tf.keras.layers.Dropout(0.1))\n",
    "model.add(tf.keras.layers.Dense(26, activation='softmax'))\n",
    "\n",
    "model.summary()\n",
    "\n",
    "model.compile(loss=\"sparse_categorical_crossentropy\",optimizer='adam',metrics=[\"accuracy\"])"
   ]
  },
  {
   "cell_type": "code",
   "execution_count": 32,
   "metadata": {
    "execution": {
     "iopub.execute_input": "2024-03-02T07:14:34.910067Z",
     "iopub.status.busy": "2024-03-02T07:14:34.909680Z",
     "iopub.status.idle": "2024-03-02T07:17:16.894496Z",
     "shell.execute_reply": "2024-03-02T07:17:16.893221Z",
     "shell.execute_reply.started": "2024-03-02T07:14:34.910031Z"
    }
   },
   "outputs": [
    {
     "name": "stdout",
     "output_type": "stream",
     "text": [
      "Epoch 1/3\n",
      "WARNING:tensorflow:From c:\\Users\\Ananymis\\AppData\\Local\\Programs\\Python\\Python311\\Lib\\site-packages\\keras\\src\\utils\\tf_utils.py:492: The name tf.ragged.RaggedTensorValue is deprecated. Please use tf.compat.v1.ragged.RaggedTensorValue instead.\n",
      "\n",
      "WARNING:tensorflow:From c:\\Users\\Ananymis\\AppData\\Local\\Programs\\Python\\Python311\\Lib\\site-packages\\keras\\src\\engine\\base_layer_utils.py:384: The name tf.executing_eagerly_outside_functions is deprecated. Please use tf.compat.v1.executing_eagerly_outside_functions instead.\n",
      "\n",
      "90/90 [==============================] - 17s 152ms/step - loss: 2.4273 - accuracy: 0.2873 - val_loss: 0.7298 - val_accuracy: 0.8105\n",
      "Epoch 2/3\n",
      "90/90 [==============================] - 14s 153ms/step - loss: 0.3390 - accuracy: 0.8937 - val_loss: 0.0602 - val_accuracy: 0.9875\n",
      "Epoch 3/3\n",
      "90/90 [==============================] - 13s 145ms/step - loss: 0.0654 - accuracy: 0.9812 - val_loss: 0.0032 - val_accuracy: 1.0000\n"
     ]
    }
   ],
   "source": [
    "history = model.fit(X,y,batch_size=64,epochs=3, validation_split=0.2) #training"
   ]
  },
  {
   "cell_type": "markdown",
   "metadata": {},
   "source": [
    "The predictions are remarkably good ever since the first epoch."
   ]
  },
  {
   "cell_type": "markdown",
   "metadata": {},
   "source": [
    "# 4. Validation"
   ]
  },
  {
   "cell_type": "markdown",
   "metadata": {},
   "source": [
    "I decided to use the test dataset as validation."
   ]
  },
  {
   "cell_type": "code",
   "execution_count": 34,
   "metadata": {
    "execution": {
     "iopub.execute_input": "2024-03-02T07:17:16.897172Z",
     "iopub.status.busy": "2024-03-02T07:17:16.896727Z",
     "iopub.status.idle": "2024-03-02T07:17:18.535432Z",
     "shell.execute_reply": "2024-03-02T07:17:18.534061Z",
     "shell.execute_reply.started": "2024-03-02T07:17:16.897118Z"
    }
   },
   "outputs": [
    {
     "name": "stdout",
     "output_type": "stream",
     "text": [
      "1/1 [==============================] - 0s 204ms/step\n"
     ]
    },
    {
     "name": "stderr",
     "output_type": "stream",
     "text": [
      "C:\\Users\\Ananymis\\AppData\\Local\\Temp\\ipykernel_4004\\1876916610.py:20: FutureWarning: Series.__getitem__ treating keys as positions is deprecated. In a future version, integer keys will always be treated as labels (consistent with DataFrame behavior). To access a value by position, use `ser.iloc[pos]`\n",
      "  plt.title(f\"Prediction :  {alphabet[ np.argmax(model.predict(X[n].reshape(1,28,28,1)))]} | had to predict {alphabet[df_valid.loc[n][0]]}\")\n"
     ]
    },
    {
     "data": {
      "image/png": "[encoded data removed]",
      "text/plain": [
       "<Figure size 640x480 with 1 Axes>"
      ]
     },
     "metadata": {},
     "output_type": "display_data"
    }
   ],
   "source": [
    "df_valid = pd.read_csv(\"C:/Users/Ananymis/Desktop/mostafa/input\\sign_mnist_train\\sign_mnist_train.csv\")\n",
    "\n",
    "#preprocessing\n",
    "n = rd.randrange(df_valid.shape[0])\n",
    "y = df_valid[\"label\"]\n",
    "X = df_valid.drop(['label'], axis=1)\n",
    "\n",
    "ar = np.array(df_valid.loc[n][1:]).reshape((28,28))\n",
    "\n",
    "X = np.array(X)/255\n",
    "y = np.array(y)\n",
    "\n",
    "Y = np.zeros((26,df_valid.shape[0]))\n",
    "for i in range(len(y)):\n",
    "  Y[y[i],i] = 1\n",
    "X = X.reshape((-1, 28,28,1))\n",
    "Y = Y.reshape((26,-1))\n",
    "\n",
    "plt.imshow(ar, cmap='gray')\n",
    "plt.title(f\"Prediction :  {alphabet[ np.argmax(model.predict(X[n].reshape(1,28,28,1)))]} | had to predict {alphabet[df_valid.loc[n][0]]}\")\n",
    "plt.show()"
   ]
  },
  {
   "cell_type": "markdown",
   "metadata": {},
   "source": [
    "# 5. Using Webcam with OpenCV "
   ]
  },
  {
   "cell_type": "markdown",
   "metadata": {},
   "source": [
    "*Warning : Doesn't work online, works on user machine*"
   ]
  },
  {
   "cell_type": "code",
   "execution_count": 1,
   "metadata": {
    "execution": {
     "iopub.execute_input": "2024-03-02T07:17:18.537578Z",
     "iopub.status.busy": "2024-03-02T07:17:18.537221Z",
     "iopub.status.idle": "2024-03-02T07:17:18.944824Z",
     "shell.execute_reply": "2024-03-02T07:17:18.943393Z",
     "shell.execute_reply.started": "2024-03-02T07:17:18.537541Z"
    }
   },
   "outputs": [
    {
     "ename": "KeyboardInterrupt",
     "evalue": "",
     "output_type": "error",
     "traceback": [
      "\u001b[1;31m---------------------------------------------------------------------------\u001b[0m",
      "\u001b[1;31mKeyboardInterrupt\u001b[0m                         Traceback (most recent call last)",
      "Cell \u001b[1;32mIn[1], line 21\u001b[0m\n\u001b[0;32m     16\u001b[0m \u001b[38;5;66;03m# Optionally normalize the image here if the model expects normalized input\u001b[39;00m\n\u001b[0;32m     17\u001b[0m \u001b[38;5;66;03m# gray = gray / 255.0\u001b[39;00m\n\u001b[0;32m     19\u001b[0m cv2\u001b[38;5;241m.\u001b[39mimshow(\u001b[38;5;124m'\u001b[39m\u001b[38;5;124mframe\u001b[39m\u001b[38;5;124m'\u001b[39m, frame)\n\u001b[1;32m---> 21\u001b[0m \u001b[38;5;28;01mif\u001b[39;00m \u001b[43mcv2\u001b[49m\u001b[38;5;241;43m.\u001b[39;49m\u001b[43mwaitKey\u001b[49m\u001b[43m(\u001b[49m\u001b[38;5;241;43m10\u001b[39;49m\u001b[43m)\u001b[49m \u001b[38;5;241m&\u001b[39m \u001b[38;5;241m0xFF\u001b[39m \u001b[38;5;241m==\u001b[39m \u001b[38;5;28mord\u001b[39m(\u001b[38;5;124m'\u001b[39m\u001b[38;5;124mq\u001b[39m\u001b[38;5;124m'\u001b[39m):\n\u001b[0;32m     22\u001b[0m     \u001b[38;5;66;03m# Predict only once and use the result\u001b[39;00m\n\u001b[0;32m     23\u001b[0m     processed_frame \u001b[38;5;241m=\u001b[39m gray\u001b[38;5;241m.\u001b[39mreshape(\u001b[38;5;241m1\u001b[39m, \u001b[38;5;241m28\u001b[39m, \u001b[38;5;241m28\u001b[39m, \u001b[38;5;241m1\u001b[39m)\n\u001b[0;32m     24\u001b[0m     prediction \u001b[38;5;241m=\u001b[39m model\u001b[38;5;241m.\u001b[39mpredict(processed_frame)\n",
      "\u001b[1;31mKeyboardInterrupt\u001b[0m: "
     ]
    },
    {
     "ename": "",
     "evalue": "",
     "output_type": "error",
     "traceback": [
      "\u001b[1;31mThe Kernel crashed while executing code in the current cell or a previous cell. \n",
      "\u001b[1;31mPlease review the code in the cell(s) to identify a possible cause of the failure. \n",
      "\u001b[1;31mClick <a href='https://aka.ms/vscodeJupyterKernelCrash'>here</a> for more info. \n",
      "\u001b[1;31mView Jupyter <a href='command:jupyter.viewOutput'>log</a> for further details."
     ]
    }
   ],
   "source": [
    "import cv2\n",
    "import numpy as np\n",
    "\n",
    "cap = cv2.VideoCapture(0)\n",
    "\n",
    "while True:\n",
    "    ret, frame = cap.read()\n",
    "    if not ret:\n",
    "        break  # Stop loop if there are no frames to capture\n",
    "\n",
    "    cv2.rectangle(frame, (100, 100), (300, 300), (0, 255, 0), 0)\n",
    "    roi = frame[100:300, 100:300]\n",
    "    f = cv2.resize(roi, (28, 28))\n",
    "    gray = cv2.cvtColor(f, cv2.COLOR_BGR2GRAY)\n",
    "\n",
    "    # Optionally normalize the image here if the model expects normalized input\n",
    "    # gray = gray / 255.0\n",
    "\n",
    "    cv2.imshow('frame', frame)\n",
    "\n",
    "    if cv2.waitKey(10) & 0xFF == ord('q'):\n",
    "        # Predict only once and use the result\n",
    "        processed_frame = gray.reshape(1, 28, 28, 1)\n",
    "        prediction = model.predict(processed_frame)\n",
    "        predicted_letter = alphabet[np.argmax(prediction)]\n",
    "        print(\"____\")\n",
    "        print(predicted_letter)\n",
    "        break  # Exit the loop after prediction\n",
    "\n",
    "cap.release()\n",
    "cv2.destroyAllWindows()\n"
   ]
  },
  {
   "cell_type": "markdown",
   "metadata": {},
   "source": [
    "Using the webcam shows a problem, the use of a solid gray background in the dataset makes it difficult for the CNN to generalize. A way to solve this issue would be to extract the hand from the background and having a \"binary image\" using OpenCV.  *TO BE CONTINUED...*"
   ]
  }
 ],
 "metadata": {
  "kaggle": {
   "accelerator": "none",
   "dataSources": [
    {
     "datasetId": 3258,
     "sourceId": 5337,
     "sourceType": "datasetVersion"
    }
   ],
   "dockerImageVersionId": 30038,
   "isGpuEnabled": false,
   "isInternetEnabled": false,
   "language": "python",
   "sourceType": "notebook"
  },
  "kernelspec": {
   "display_name": "Python 3 (ipykernel)",
   "language": "python",
   "name": "python3"
  },
  "language_info": {
   "codemirror_mode": {
    "name": "ipython",
    "version": 3
   },
   "file_extension": ".py",
   "mimetype": "text/x-python",
   "name": "python",
   "nbconvert_exporter": "python",
   "pygments_lexer": "ipython3",
   "version": "3.10.12"
  }
 },
 "nbformat": 4,
 "nbformat_minor": 4
}
