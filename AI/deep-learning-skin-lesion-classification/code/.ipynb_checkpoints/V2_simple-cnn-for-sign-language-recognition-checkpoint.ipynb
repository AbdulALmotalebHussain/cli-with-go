{
 "cells": [
  {
   "cell_type": "code",
   "execution_count": null,
   "metadata": {
    "_cell_guid": "b1076dfc-b9ad-4769-8c92-a6c4dae69d19",
    "_uuid": "8f2839f25d086af736a60e9eeb907d3b93b6e0e5",
    "execution": {
     "iopub.execute_input": "2024-03-25T17:18:19.630790Z",
     "iopub.status.busy": "2024-03-25T17:18:19.630433Z"
    }
   },
   "outputs": [
    {
     "name": "stderr",
     "output_type": "stream",
     "text": [
      "2024-03-25 17:18:22.874810: E external/local_xla/xla/stream_executor/cuda/cuda_dnn.cc:9261] Unable to register cuDNN factory: Attempting to register factory for plugin cuDNN when one has already been registered\n",
      "2024-03-25 17:18:22.874966: E external/local_xla/xla/stream_executor/cuda/cuda_fft.cc:607] Unable to register cuFFT factory: Attempting to register factory for plugin cuFFT when one has already been registered\n",
      "2024-03-25 17:18:23.035854: E external/local_xla/xla/stream_executor/cuda/cuda_blas.cc:1515] Unable to register cuBLAS factory: Attempting to register factory for plugin cuBLAS when one has already been registered\n"
     ]
    },
    {
     "name": "stdout",
     "output_type": "stream",
     "text": [
      "Epoch 1/20\n"
     ]
    },
    {
     "name": "stderr",
     "output_type": "stream",
     "text": [
      "/opt/conda/lib/python3.10/site-packages/keras/src/layers/convolutional/base_conv.py:99: UserWarning: Do not pass an `input_shape`/`input_dim` argument to a layer. When using Sequential models, prefer using an `Input(shape)` object as the first layer in the model instead.\n",
      "  super().__init__(\n",
      "/opt/conda/lib/python3.10/site-packages/keras/src/trainers/data_adapters/py_dataset_adapter.py:122: UserWarning: Your `PyDataset` class should call `super().__init__(**kwargs)` in its constructor. `**kwargs` can include `workers`, `use_multiprocessing`, `max_queue_size`. Do not pass these arguments to `fit()`, as they will be ignored.\n",
      "  self._warn_if_super_not_called()\n"
     ]
    },
    {
     "name": "stdout",
     "output_type": "stream",
     "text": [
      "858/858 - 27s - 32ms/step - accuracy: 0.3457 - loss: 2.1096 - val_accuracy: 0.7865 - val_loss: 0.7675\n",
      "Epoch 2/20\n",
      "858/858 - 41s - 47ms/step - accuracy: 0.6263 - loss: 1.1058 - val_accuracy: 0.8707 - val_loss: 0.4186\n",
      "Epoch 3/20\n",
      "858/858 - 41s - 47ms/step - accuracy: 0.6987 - loss: 0.8616 - val_accuracy: 0.8811 - val_loss: 0.3452\n",
      "Epoch 4/20\n",
      "858/858 - 25s - 30ms/step - accuracy: 0.7501 - loss: 0.7348 - val_accuracy: 0.9467 - val_loss: 0.2286\n",
      "Epoch 5/20\n",
      "858/858 - 41s - 48ms/step - accuracy: 0.7853 - loss: 0.6140 - val_accuracy: 0.9632 - val_loss: 0.1758\n",
      "Epoch 6/20\n",
      "858/858 - 25s - 30ms/step - accuracy: 0.8089 - loss: 0.5506 - val_accuracy: 0.9688 - val_loss: 0.1261\n",
      "Epoch 7/20\n",
      "858/858 - 41s - 48ms/step - accuracy: 0.8280 - loss: 0.4959 - val_accuracy: 0.9812 - val_loss: 0.1050\n",
      "Epoch 8/20\n",
      "858/858 - 26s - 30ms/step - accuracy: 0.8423 - loss: 0.4525 - val_accuracy: 0.9840 - val_loss: 0.0760\n",
      "Epoch 9/20\n",
      "858/858 - 41s - 48ms/step - accuracy: 0.8549 - loss: 0.4164 - val_accuracy: 0.9901 - val_loss: 0.0538\n",
      "Epoch 10/20\n",
      "858/858 - 25s - 29ms/step - accuracy: 0.8664 - loss: 0.3811 - val_accuracy: 0.9809 - val_loss: 0.0700\n",
      "Epoch 11/20\n",
      "858/858 - 41s - 47ms/step - accuracy: 0.8796 - loss: 0.3373 - val_accuracy: 0.9877 - val_loss: 0.0502\n",
      "Epoch 12/20\n",
      "858/858 - 41s - 48ms/step - accuracy: 0.8839 - loss: 0.3319 - val_accuracy: 0.9902 - val_loss: 0.0423\n",
      "Epoch 13/20\n",
      "858/858 - 41s - 48ms/step - accuracy: 0.8956 - loss: 0.3054 - val_accuracy: 0.9904 - val_loss: 0.0391\n",
      "Epoch 14/20\n",
      "858/858 - 41s - 48ms/step - accuracy: 0.8985 - loss: 0.2995 - val_accuracy: 0.9873 - val_loss: 0.0514\n",
      "Epoch 15/20\n",
      "858/858 - 40s - 47ms/step - accuracy: 0.9064 - loss: 0.2697 - val_accuracy: 0.9905 - val_loss: 0.0290\n"
     ]
    }
   ],
   "source": [
    "# Import necessary libraries\n",
    "import numpy as np\n",
    "import pandas as pd\n",
    "import tensorflow as tf\n",
    "from sklearn.model_selection import train_test_split\n",
    "from tensorflow.keras.models import Sequential\n",
    "from tensorflow.keras.layers import Conv2D, MaxPooling2D, Flatten, Dense, Dropout\n",
    "from tensorflow.keras.utils import to_categorical\n",
    "from tensorflow.keras.preprocessing.image import ImageDataGenerator\n",
    "\n",
    "# Load the dataset\n",
    "# Adjust the path according to your Kaggle dataset location\n",
    "train_data = pd.read_csv('/kaggle/input/sign-language-mnist/sign_mnist_train/sign_mnist_train.csv')\n",
    "test_data = pd.read_csv('/kaggle/input/sign-language-mnist/sign_mnist_test/sign_mnist_test.csv')\n",
    "\n",
    "# Separate features and labels\n",
    "X_train = train_data.drop('label', axis=1).values.reshape(train_data.shape[0], 28, 28, 1).astype('float32')\n",
    "X_test = test_data.drop('label', axis=1).values.reshape(test_data.shape[0], 28, 28, 1).astype('float32')\n",
    "y_train = train_data['label'].values\n",
    "y_test = test_data['label'].values\n",
    "\n",
    "# Normalize the data\n",
    "X_train /= 255\n",
    "X_test /= 255\n",
    "\n",
    "# One-hot encode labels\n",
    "y_train = to_categorical(y_train, num_classes=26)\n",
    "y_test = to_categorical(y_test, num_classes=26)\n",
    "\n",
    "# Define the model\n",
    "model = Sequential([\n",
    "    Conv2D(64, (3, 3), activation='relu', input_shape=(28, 28, 1)),\n",
    "    MaxPooling2D(2, 2),\n",
    "    Conv2D(64, (3, 3), activation='relu'),\n",
    "    MaxPooling2D(2, 2),\n",
    "    Flatten(),\n",
    "    Dense(128, activation='relu'),\n",
    "    Dropout(0.5),\n",
    "    Dense(26, activation='softmax')\n",
    "])\n",
    "\n",
    "# Compile the model\n",
    "model.compile(optimizer='adam', loss='categorical_crossentropy', metrics=['accuracy'])\n",
    "\n",
    "# Data augmentation\n",
    "datagen = ImageDataGenerator(\n",
    "    rotation_range=10,\n",
    "    width_shift_range=0.1,\n",
    "    height_shift_range=0.1,\n",
    "    zoom_range=0.1,\n",
    "    horizontal_flip=False\n",
    ")\n",
    "\n",
    "# Train the model\n",
    "model.fit(datagen.flow(X_train, y_train, batch_size=32),\n",
    "          epochs=20,\n",
    "          validation_data=(X_test, y_test),\n",
    "          verbose=2)\n",
    "\n",
    "# Evaluate the model\n",
    "test_loss, test_accuracy = model.evaluate(X_test, y_test, verbose=0)\n",
    "print(f\"Test accuracy: {test_accuracy*100:.2f}%\")\n"
   ]
  },
  {
   "cell_type": "code",
   "execution_count": null,
   "metadata": {},
   "outputs": [],
   "source": [
    "import cv2\n",
    "\n",
    "# Initialize the camera\n",
    "# The argument to VideoCapture is the camera's index (0 for the default camera, 1 for a second camera, etc.)\n",
    "# If you're using a video file, replace 0 with the video file path\n",
    "cap = cv2.VideoCapture(0)\n",
    "\n",
    "# Check if the camera opened successfully\n",
    "if not cap.isOpened():\n",
    "    print(\"Error: Could not open camera.\")\n",
    "    exit()\n",
    "\n",
    "# Read and display frames in a loop\n",
    "while True:\n",
    "    # Capture frame-by-frame\n",
    "    ret, frame = cap.read()\n",
    "\n",
    "    # If frame is read correctly, ret is True\n",
    "    if not ret:\n",
    "        print(\"Can't receive frame (stream end?). Exiting ...\")\n",
    "        break\n",
    "\n",
    "    # Display the resulting frame\n",
    "    cv2.imshow('frame', frame)\n",
    "\n",
    "    # Press 'q' to exit the loop\n",
    "    if cv2.waitKey(1) == ord('q'):\n",
    "        break\n",
    "\n",
    "# When everything is done, release the capture\n",
    "cap.release()\n",
    "cv2.destroyAllWindows()\n"
   ]
  }
 ],
 "metadata": {
  "kaggle": {
   "accelerator": "none",
   "dataSources": [
    {
     "datasetId": 3258,
     "sourceId": 5337,
     "sourceType": "datasetVersion"
    }
   ],
   "dockerImageVersionId": 30673,
   "isGpuEnabled": false,
   "isInternetEnabled": true,
   "language": "python",
   "sourceType": "notebook"
  },
  "kernelspec": {
   "display_name": "Python 3 (ipykernel)",
   "language": "python",
   "name": "python3"
  },
  "language_info": {
   "codemirror_mode": {
    "name": "ipython",
    "version": 3
   },
   "file_extension": ".py",
   "mimetype": "text/x-python",
   "name": "python",
   "nbconvert_exporter": "python",
   "pygments_lexer": "ipython3",
   "version": "3.10.12"
  }
 },
 "nbformat": 4,
 "nbformat_minor": 4
}
